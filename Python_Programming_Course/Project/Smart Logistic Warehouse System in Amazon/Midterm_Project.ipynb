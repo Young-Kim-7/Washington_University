{
 "cells": [
  {
   "cell_type": "markdown",
   "metadata": {},
   "source": [
    "# Smart Logistic System in Amazon "
   ]
  },
  {
   "cell_type": "markdown",
   "metadata": {},
   "source": [
    "### Note:  \n",
    "\n",
    "1. This is a group-based project, you are only allowed to discuss with your team members.\n",
    "\n",
    "2. You are not allowed to use any packages to read or write csv files.\n",
    "3. You are not allowed to use dynamic programming for this problem."
   ]
  },
  {
   "cell_type": "code",
   "execution_count": 1,
   "metadata": {},
   "outputs": [],
   "source": [
    "import numpy as np   # Numpy package would be the only package you could use for this project.\n",
    "                     # Please do not use pandas or other packages."
   ]
  },
  {
   "cell_type": "markdown",
   "metadata": {},
   "source": [
    "## Problem1: The Estimated Value for Each Warehouse"
   ]
  },
  {
   "cell_type": "markdown",
   "metadata": {},
   "source": [
    "In this problem 1, calculating the estimated total value and accumulated weight of each of 300 warehouses will be helpful for the later decision of cross-warehouse-transshipment solution in problem 2. "
   ]
  },
  {
   "cell_type": "markdown",
   "metadata": {},
   "source": [
    "### Step 1: Estimate the Maximized Total Value and Accumulated Weight of One Warehouse"
   ]
  },
  {
   "cell_type": "markdown",
   "metadata": {},
   "source": [
    "Read the dataset from  \"Products.csv\" first."
   ]
  },
  {
   "cell_type": "code",
   "execution_count": 2,
   "metadata": {
    "tags": []
   },
   "outputs": [],
   "source": [
    "file_name='Products.csv'\n",
    "\n",
    "# Write your codes here\n",
    "items = open(file_name, \"r\")\n",
    "products = items.readlines()\n",
    "products \n",
    "\n",
    "\n",
    "# Strip unnecessary punctuations\n",
    "products = [n.strip('\\n').split(',') for n in products if n != ',,,,,,,,,,,,,,,,,,,,,,,,,,,,,,,,,,,,,,,,,,,,,,,,,\\n']\n",
    "\n",
    "# Convert strings to float\n",
    "products = [[float(num) for num in n] for n in products]"
   ]
  },
  {
   "cell_type": "markdown",
   "metadata": {},
   "source": [
    "Now let's get the estimated value and weight for one warehouse.You need to write a function \"get_max_value\" which could do the following 4 things:\n",
    "1. Calculate the Value_Weight Ratio for each product. \n",
    "2. Sort the calculated Value_Weight Ratios in descending order. \n",
    "3. Select the products from the top of the descending order to the bottom while looking at the accumulated         weight of products to make sure the accumulated weight does not exceed the warehouse weight capacity.\n",
    "4. Calculate the  corresponding estimated value for this warehouse after finishing product selection.\n",
    "\n",
    "Remember, take every product into consideration; otherwise, you may have the risk of missing products. You want to put as many product with highest Value_Weight Ratio as possible before reaching the weight capacity for this warehouse."
   ]
  },
  {
   "cell_type": "code",
   "execution_count": 3,
   "metadata": {},
   "outputs": [],
   "source": [
    "def get_max_value(products, i):  # i means ith warehouse (i = 0 ~ 299)\n",
    "    \n",
    "    #write your codes here\n",
    "    \n",
    "    # Define 'weights', 'values' from 'products'\n",
    "    weights = products[i*2]  # 0th, 2nd, ..., 598th lines \n",
    "    values = products[i*2 + 1]  # 1st, 3rd, ..., 599th lines\n",
    "    \n",
    "    # Define 'vw_ratios' (Value-Weight Ratios)\n",
    "    vw_ratios = np.array(values) / np.array(weights)  # Convert to numpy array for calculation\n",
    "    vw_ratios = vw_ratios.tolist()                    # Convert back to list\n",
    "\n",
    "    # Define 'vw_ratios_desc' (Value-Weight Ratios in descending order)\n",
    "    vw_ratios_desc = sorted(vw_ratios, reverse=True)  \n",
    "\n",
    "    # Define empty lists for for loop\n",
    "    selected_indices = []\n",
    "    selected_weights = []\n",
    "    selected_values = []\n",
    "\n",
    "    # For loop\n",
    "    for vw_ratio in vw_ratios_desc:\n",
    "        index = vw_ratios.index(vw_ratio)                  # define product index\n",
    "    \n",
    "        if sum(selected_weights) + weights[index] <= 850:\n",
    "            selected_indices.append(index)                 # get selected products' indices\n",
    "            selected_weights.append(weights[index])        # get selected products' weights\n",
    "            selected_values.append(values[index])          # get selected products' values\n",
    "\n",
    "        else:\n",
    "            continue\n",
    "    \n",
    "    # Print the results (optional)\n",
    "    print(f\"For {i}th warehouse, selected products are: \\n{selected_indices} \\n\")\n",
    "    print(f\"For {i}th warehouse, selected products' weights are: \\n{selected_weights} \\n\")\n",
    "    print(f\"For {i}th warehouse, selected products' values are: \\n{selected_values} \\n\")\n",
    "    \n",
    "    print(f\"For {i}th warehouse, The Total Weight is: {sum(selected_weights)}\")\n",
    "    print(f\"For {i}th warehouse, The Total Value is: {sum(selected_values)}\")\n",
    "    \n",
    "    # Return [The Total Weight, The Total Value, None]\n",
    "    \n",
    "    # 'None' here is for later use (a place for value-per-weight in Problem2)\n",
    "    return [sum(selected_weights), sum(selected_values), None]  "
   ]
  },
  {
   "cell_type": "code",
   "execution_count": null,
   "metadata": {},
   "outputs": [],
   "source": [
    "# Check the code above\n",
    "get_max_value(products, 0)\n",
    "# Make sure you have calculated the total Value and accumulated Weight for One Warehouse\n",
    "# Again, 'None' here is for later use (a place for value-per-weight in Problem2)"
   ]
  },
  {
   "cell_type": "markdown",
   "metadata": {},
   "source": [
    "### Step 2: Estimate the Total Value for 300 Warehouses\n",
    "Let's apply the same calculation process of step 1 for one warehouse to the 299 warehouses left. \n",
    "\n",
    "Keep in mind that calculating the estimated total value and accumulated weight of 300 warehouses will be helpful for the later decision of cross-warehouse-transshipment solution in problem 2. "
   ]
  },
  {
   "cell_type": "code",
   "execution_count": null,
   "metadata": {},
   "outputs": [],
   "source": [
    "# Define 'warehouse_value' as dictionary\n",
    "warehouse_value = {}\n",
    "\n",
    "# Fill 'warehouse_value' (itreate 0 ~ 299, instead of 0 ~ 899 by 3)\n",
    "for i in range(300):\n",
    "    #write your codes here\n",
    "    warehouse_value[i] = get_max_value(products, i)"
   ]
  },
  {
   "cell_type": "code",
   "execution_count": null,
   "metadata": {},
   "outputs": [],
   "source": [
    "# Check the code above\n",
    "print(warehouse_value)         \n",
    "# Print the warehouse_value generated"
   ]
  },
  {
   "cell_type": "markdown",
   "metadata": {},
   "source": [
    "## Problem 2: Top Alternative Selections\n",
    "\n",
    "In this problem, you will simulate the cross-warehouse-transshipment solutions when a random warehouse is out-of-stock during the promotion period."
   ]
  },
  {
   "cell_type": "markdown",
   "metadata": {},
   "source": [
    "### Step 1: Generate the 300*300 distance matrix and write the results to \"Distances.csv\"\n",
    "Let's generate a distance matrix among the 300 warehouses first. Each of the distances can be generated by using a normal distribution with a mean of 600 and a standard deviation of 400. \n",
    "\n",
    "Be careful, all the distances generated should be positive numbers and should be rounded to integers using the round() function. After successfully generating the distance matrix, please write it to a new CSV file called “Distances.csv”."
   ]
  },
  {
   "cell_type": "code",
   "execution_count": 6,
   "metadata": {},
   "outputs": [],
   "source": [
    "# Generate the Distance matrix 300*300\n",
    "\n",
    "#write your codes here\n",
    "def gen_matrix(matrix_size, random_seed):  # matrix_size here is a height(=or a width) of a square matrix\n",
    "    \n",
    "    # Generate distance_numbers randomly\n",
    "    number_of_distances = sum([i for i in range(matrix_size)])  # the number of distances needed to fill the given sized matrix\n",
    "    np.random.seed(random_seed)  # use the input of random_seed \n",
    "    distance_numbers = np.random.normal(500, 300, (number_of_distances))  # generate random numbers with the given condition\n",
    "    distance_numbers = [round(np.abs(i)) for i in distance_numbers]  # convert the above to positive integers\n",
    "    \n",
    "    # Generate 'matrix_1' filled with zeros\n",
    "    matrix_1 = np.zeros((matrix_size, matrix_size), dtype = int)\n",
    "    \n",
    "    # Fill the upper right corner of 'matrix_1'\n",
    "    distance_index = 0\n",
    "        \n",
    "    for i in range(matrix_size):\n",
    "        for j in range(matrix_size):\n",
    "            if j > i:\n",
    "                matrix_1[i][j] = distance_numbers[distance_index]\n",
    "                distance_index += 1\n",
    "    \n",
    "    # Generate 'matrix_2' by transposing 'matrix_1'\n",
    "    matrix_2 = matrix_1.T\n",
    "    \n",
    "    # Generate 'final_matrix' with the two matrices\n",
    "    matrix_final = matrix_1 + matrix_2\n",
    "    \n",
    "    # Return 'final_matrix'\n",
    "    return matrix_final    "
   ]
  },
  {
   "cell_type": "markdown",
   "metadata": {},
   "source": [
    "Now we are going to save the file in 'Distance.csv'"
   ]
  },
  {
   "cell_type": "code",
   "execution_count": null,
   "metadata": {},
   "outputs": [],
   "source": [
    "# Check the code above\n",
    "distances = gen_matrix(300, 0)\n",
    "distances  \n",
    "# Show the distance matrix you generated \n",
    "# Check your maxtrix and see if all numbers are positive and rounded to integer"
   ]
  },
  {
   "cell_type": "code",
   "execution_count": 8,
   "metadata": {},
   "outputs": [],
   "source": [
    "f = open(\"Distances.csv\", \"w\") # We will create this file.\n",
    "\n",
    "#write your codes here\n",
    "for i in distances:\n",
    "    for j in i:\n",
    "        f.write(f\"{str(j)},\")\n",
    "    f.write(\"\\n\")\n",
    "\n",
    "f.close()"
   ]
  },
  {
   "cell_type": "markdown",
   "metadata": {},
   "source": [
    "### Step2：Select the Alternative Warehouse (\"Helper\")"
   ]
  },
  {
   "cell_type": "markdown",
   "metadata": {},
   "source": [
    "Marlon randomly selects No.p warehouse that is out-of-stock in this simulation."
   ]
  },
  {
   "cell_type": "code",
   "execution_count": null,
   "metadata": {},
   "outputs": [],
   "source": [
    "'''p is offered by Malron. Do not change the code below.'''\n",
    "\n",
    "p = np.random.randint(0,300) \n",
    "p"
   ]
  },
  {
   "cell_type": "markdown",
   "metadata": {},
   "source": [
    "There are 3 things to do:\n",
    "1. Based on the generated p, find the corresponding distance between this warehouse No.p and each of the other Helpers from the distance matrix you generated in Step 1 of Problem 2.\n",
    "2. Find the corresponding total value and total weight of all products stored in each Helper (you have calculated these numbers in Problem 1).\n",
    "3. Calculate the “Value_per_Weight” ratio for each Helper, sort the ratio in descending order and choose top helpers with 10 highest “Value_per_Weight”ratios.\n",
    "\n",
    "#### <center> $Value\\_per\\_Weight = \\frac{Total\\_Value}{Total\\_Weight}-Distance\\times\\ Transpotation\\_Cost$"
   ]
  },
  {
   "cell_type": "code",
   "execution_count": 10,
   "metadata": {},
   "outputs": [],
   "source": [
    "#write your codes here\n",
    "\n",
    "# Update the last place of 'warehouse_value' (that we left as 'None') with value-per-weight between p and i\n",
    "for i in range(300):\n",
    "    \n",
    "    if i != p:\n",
    "        i_distance = distances[p][i]\n",
    "        i_total_weight = warehouse_value[i][0]\n",
    "        i_total_value = warehouse_value[i][1]\n",
    "        i_value_per_weight = (i_total_value / i_total_weight) - i_distance * 0.015\n",
    "        \n",
    "        # Update the last place with value-per-weight between p and i \n",
    "        warehouse_value[i][-1] = i_value_per_weight  \n",
    "        \n",
    "    else:\n",
    "        # Update the last place with a very small number to prevent a warehouse from showing itself as a helper\n",
    "        warehouse_value[i][-1] = (-float('inf'))  \n",
    "\n",
    "# Flip keys, values of 'warehouse_value'\n",
    "warehouse_value_flipped = {value[-1]: key for key, value in warehouse_value.items()}\n",
    "\n",
    "# Find the top 10 helpers\n",
    "helpers_sorted = sorted(warehouse_value_flipped, reverse=True)\n",
    "\n",
    "# Check if 'helpers_sorted' has any duplicate values\n",
    "if len(helpers_sorted) == len(set(helpers_sorted)):\n",
    "    \n",
    "    # Final output\n",
    "    top_10_helpers = []     \n",
    "    for i in helpers_sorted[:10]:\n",
    "        top_10_helpers.append((warehouse_value_flipped[i], i))\n",
    "else:\n",
    "    print(\"Warning: Duplicate values in value-per-weight\")"
   ]
  },
  {
   "cell_type": "code",
   "execution_count": null,
   "metadata": {},
   "outputs": [],
   "source": [
    "# Check the code above\n",
    "top_10_helpers\n",
    "# Show the cross-warehouse-transshipment solution when No.p warehouse is out-of-stock during the promotion period. \n",
    "# The solution should contain Helper indexes and the corresponding \"Value_Per_Weight\" ratios. "
   ]
  },
  {
   "cell_type": "markdown",
   "metadata": {},
   "source": [
    "#### Note:\n",
    "\n",
    "Due to random assignment of No.p warehouse, it's acceptable if your recommended solution changes each time you re-run the code. "
   ]
  },
  {
   "cell_type": "markdown",
   "metadata": {},
   "source": [
    "### Submision Requirement:\n",
    "\n",
    "Please submit all files (Distances.csv, and Fall23_Midterm_Amazon.ipynb files) as one zip file on Canvas. Please add IDs on the name of zip file. For example, 14325_34672_12345.zip."
   ]
  }
 ],
 "metadata": {
  "kernelspec": {
   "display_name": "Python 3 (ipykernel)",
   "language": "python",
   "name": "python3"
  },
  "language_info": {
   "codemirror_mode": {
    "name": "ipython",
    "version": 3
   },
   "file_extension": ".py",
   "mimetype": "text/x-python",
   "name": "python",
   "nbconvert_exporter": "python",
   "pygments_lexer": "ipython3",
   "version": "3.11.5"
  }
 },
 "nbformat": 4,
 "nbformat_minor": 4
}
