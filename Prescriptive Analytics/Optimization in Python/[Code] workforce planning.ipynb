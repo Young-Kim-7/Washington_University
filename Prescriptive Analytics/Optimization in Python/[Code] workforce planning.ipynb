{
 "cells": [
  {
   "cell_type": "markdown",
   "metadata": {
    "id": "cbEQlIplwY5k",
    "tags": []
   },
   "source": [
    "# 4. Optimization in Python\n",
    "\n",
    "## Problem 2. Workforce planning\n",
    "---"
   ]
  },
  {
   "cell_type": "markdown",
   "metadata": {},
   "source": [
    "## Mathematical Formulation"
   ]
  },
  {
   "cell_type": "markdown",
   "metadata": {},
   "source": [
    "### Decision variables\n",
    "*   $X_{t}$: Number of untrained programmers to be trained in month t.\n",
    "*   $Y_{t}$: Number of untrained programmers to be laid off in month t.\n",
    "*   $U_{t}$: Number of untrained programmers working in production in month t.\n",
    "*   $T_{t}$: Number of trained programmers working in production in month t."
   ]
  },
  {
   "cell_type": "markdown",
   "metadata": {},
   "source": [
    "### Objective function"
   ]
  },
  {
   "cell_type": "markdown",
   "metadata": {},
   "source": [
    "* Minimize the total cost from January(1st) to June(6th). The labor cost consists of salaries for both untrained and trained programmers.\n",
    "\n",
    "\\begin{aligned}\n",
    "\\textrm{(Minimize)} \\quad & \\sum\\limits_{i=1}^{6} (3000 \\times U_i + 3300 \\times T_i) \\; & & & \n",
    "\\end{aligned}"
   ]
  },
  {
   "cell_type": "markdown",
   "metadata": {},
   "source": [
    "### Constraints"
   ]
  },
  {
   "cell_type": "markdown",
   "metadata": {
    "id": "CYaEvb0FAIvs"
   },
   "source": [
    "\\begin{aligned}\n",
    "\\textrm{(Workforce Demand)} \\quad U_t + 1.2 \\times T_t & \\geq Demand_t & \\forall t \\\\\n",
    "\\end{aligned}\n"
   ]
  },
  {
   "cell_type": "markdown",
   "metadata": {
    "id": "CYaEvb0FAIvs"
   },
   "source": [
    "\\begin{aligned}\n",
    "\\textrm{(Workforce in 1st month)} \\quad U_1 + X_1 + Y_1 & = 145 & \\\\\n",
    "\\end{aligned}"
   ]
  },
  {
   "cell_type": "markdown",
   "metadata": {
    "tags": []
   },
   "source": [
    "\\begin{aligned}\n",
    "\\textrm{(Workforce Alteration)} \\quad U_{t+1} = U_t - X_t - Y_t - 0.05 \\times U_t \\quad & \\forall t \\\\\n",
    "\\quad T_{t+1} = T_t + 0.9 \\times X_t \\quad & \\forall t \\\\\n",
    "\\end{aligned}\n"
   ]
  },
  {
   "cell_type": "markdown",
   "metadata": {},
   "source": [
    "\\begin{aligned}\n",
    "\\textrm{(Non-negative integers)} \\quad & X_{t},Y_{t},U_{t},T_{t} & \\geq  \\quad 0, & &\\forall t \\\\\n",
    "\\end{aligned}"
   ]
  },
  {
   "cell_type": "markdown",
   "metadata": {},
   "source": [
    "---"
   ]
  },
  {
   "cell_type": "markdown",
   "metadata": {},
   "source": [
    "## Optimization using PuLP"
   ]
  },
  {
   "cell_type": "markdown",
   "metadata": {},
   "source": [
    "### Step 1: Setup"
   ]
  },
  {
   "cell_type": "markdown",
   "metadata": {
    "tags": []
   },
   "source": [
    "#### Import required packages"
   ]
  },
  {
   "cell_type": "code",
   "execution_count": 1,
   "metadata": {},
   "outputs": [],
   "source": [
    "import numpy as np\n",
    "import pandas as pd\n",
    "from pulp import *"
   ]
  },
  {
   "cell_type": "markdown",
   "metadata": {},
   "source": [
    "### Step 2 Create a LP Minimization problem"
   ]
  },
  {
   "cell_type": "code",
   "execution_count": 2,
   "metadata": {
    "tags": []
   },
   "outputs": [],
   "source": [
    "prob2 = LpProblem(\"Software_Company_Problem\", LpMinimize)"
   ]
  },
  {
   "cell_type": "markdown",
   "metadata": {},
   "source": [
    "### Step 3 Add decision variables"
   ]
  },
  {
   "cell_type": "code",
   "execution_count": 3,
   "metadata": {
    "tags": []
   },
   "outputs": [],
   "source": [
    "# Decision Variables\n",
    "\n",
    "months = ['Jan','Feb','Mar','Apr','May','Jun']\n",
    "\n",
    "X = LpVariable.dicts(\"Train\", months, lowBound=0, cat=\"Continuous\")\n",
    "Y = LpVariable.dicts(\"LayOff\", months, lowBound=0, cat=\"Continuous\")\n",
    "U = LpVariable.dicts(\"Untrained\", months, lowBound=0, cat=\"Continuous\")\n",
    "T = LpVariable.dicts(\"Trained\", months, lowBound=0, cat=\"Continuous\")"
   ]
  },
  {
   "cell_type": "markdown",
   "metadata": {},
   "source": [
    "### Step 4 Add the objective function and constraints"
   ]
  },
  {
   "cell_type": "code",
   "execution_count": 4,
   "metadata": {
    "tags": []
   },
   "outputs": [],
   "source": [
    "# Objective function\n",
    "unit_cost_untrained = 3000\n",
    "unit_cost_trained = 3300\n",
    "\n",
    "prob2 += lpSum([unit_cost_untrained*U[month] + unit_cost_trained*T[month] for month in months]), \"Total Cost\"\n",
    "\n",
    "# Constraints\n",
    "\n",
    "## Contraint1: Workforce Demand\n",
    "demand_t = {'Jan': 100, 'Feb': 100,  'Mar': 115,  'Apr': 125,  'May': 140,  'Jun': 150}\n",
    "for month in months:\n",
    "    prob2 += U[month] + 1.2*T[month] - X[month] - Y[month] >= demand_t[month]\n",
    "\n",
    "## Constraint2: Workforce in the first month\n",
    "prob2 += X['Jan'] + Y['Jan'] + U['Jan'] == 145  # Initial number of untrained programmer\n",
    "prob2 += T['Jan'] == 0  # No trained programmers in January\n",
    "    \n",
    "## Constraint3: Workforce Dynamics\n",
    "for i in range(1, len(months)):  # Start from February\n",
    "    prev_month = months[i-1]\n",
    "    curr_month = months[i]\n",
    "        \n",
    "    prob2 += U[curr_month] == 0.95 * U[prev_month] - Y[prev_month] + 0.1 * X[prev_month] \n",
    "    prob2 += T[curr_month] == T[prev_month] + 0.9 * X[prev_month]"
   ]
  },
  {
   "cell_type": "code",
   "execution_count": 5,
   "metadata": {},
   "outputs": [
    {
     "name": "stderr",
     "output_type": "stream",
     "text": [
      "C:\\Users\\YS Yoon\\anaconda3\\Lib\\site-packages\\pulp\\pulp.py:1704: UserWarning: Overwriting previously set objective.\n",
      "  warnings.warn(\"Overwriting previously set objective.\")\n"
     ]
    }
   ],
   "source": [
    "# Objective function\n",
    "unit_cost_untrained = 3000\n",
    "unit_cost_trained = 3300\n",
    "\n",
    "prob2 += lpSum([unit_cost_untrained*U[month] + unit_cost_trained*T[month] for month in months]), \"Total Cost\"\n",
    "\n",
    "# Constraints\n",
    "\n",
    "## Contraint1: Workforce Demand\n",
    "demand_t = {'Jan': 100, 'Feb': 100,  'Mar': 115,  'Apr': 125,  'May': 140,  'Jun': 150}\n",
    "for month in months:\n",
    "    prob2 += U[month] + 1.2*T[month] - X[month] - Y[month] >= demand_t[month]\n",
    "\n",
    "## Constraint2: Workforce in the first month\n",
    "prob2 += X['Jan'] + Y['Jan'] + U['Jan'] == 145  # Initial number of untrained programmer\n",
    "prob2 += T['Jan'] == 0  # No trained programmers in January\n",
    "    \n",
    "## Constraint3: Workforce Dynamics\n",
    "for i in range(1, len(months)):  # Start from February\n",
    "    prev_month = months[i-1]\n",
    "    curr_month = months[i]\n",
    "    \n",
    "    prob2 += U[curr_month] == 0.95 * U[prev_month] - Y[prev_month] + 0.1 * X[prev_month] \n",
    "    prob2 += T[curr_month] == T[prev_month] + 0.9 * X[prev_month]"
   ]
  },
  {
   "cell_type": "code",
   "execution_count": 6,
   "metadata": {
    "tags": []
   },
   "outputs": [
    {
     "data": {
      "text/plain": [
       "Software_Company_Problem:\n",
       "MINIMIZE\n",
       "3300*Trained_Apr + 3300*Trained_Feb + 3300*Trained_Jan + 3300*Trained_Jun + 3300*Trained_Mar + 3300*Trained_May + 3000*Untrained_Apr + 3000*Untrained_Feb + 3000*Untrained_Jan + 3000*Untrained_Jun + 3000*Untrained_Mar + 3000*Untrained_May + 0\n",
       "SUBJECT TO\n",
       "_C1: - LayOff_Jan - Train_Jan + 1.2 Trained_Jan + Untrained_Jan >= 100\n",
       "\n",
       "_C2: - LayOff_Feb - Train_Feb + 1.2 Trained_Feb + Untrained_Feb >= 100\n",
       "\n",
       "_C3: - LayOff_Mar - Train_Mar + 1.2 Trained_Mar + Untrained_Mar >= 115\n",
       "\n",
       "_C4: - LayOff_Apr - Train_Apr + 1.2 Trained_Apr + Untrained_Apr >= 125\n",
       "\n",
       "_C5: - LayOff_May - Train_May + 1.2 Trained_May + Untrained_May >= 140\n",
       "\n",
       "_C6: - LayOff_Jun - Train_Jun + 1.2 Trained_Jun + Untrained_Jun >= 150\n",
       "\n",
       "_C7: LayOff_Jan + Train_Jan + Untrained_Jan = 145\n",
       "\n",
       "_C8: Trained_Jan = 0\n",
       "\n",
       "_C9: LayOff_Jan - 0.1 Train_Jan + Untrained_Feb - 0.95 Untrained_Jan = 0\n",
       "\n",
       "_C10: - 0.9 Train_Jan + Trained_Feb - Trained_Jan = 0\n",
       "\n",
       "_C11: LayOff_Feb - 0.1 Train_Feb - 0.95 Untrained_Feb + Untrained_Mar = 0\n",
       "\n",
       "_C12: - 0.9 Train_Feb - Trained_Feb + Trained_Mar = 0\n",
       "\n",
       "_C13: LayOff_Mar - 0.1 Train_Mar + Untrained_Apr - 0.95 Untrained_Mar = 0\n",
       "\n",
       "_C14: - 0.9 Train_Mar + Trained_Apr - Trained_Mar = 0\n",
       "\n",
       "_C15: LayOff_Apr - 0.1 Train_Apr - 0.95 Untrained_Apr + Untrained_May = 0\n",
       "\n",
       "_C16: - 0.9 Train_Apr - Trained_Apr + Trained_May = 0\n",
       "\n",
       "_C17: LayOff_May - 0.1 Train_May + Untrained_Jun - 0.95 Untrained_May = 0\n",
       "\n",
       "_C18: - 0.9 Train_May + Trained_Jun - Trained_May = 0\n",
       "\n",
       "_C19: - LayOff_Jan - Train_Jan + 1.2 Trained_Jan + Untrained_Jan >= 100\n",
       "\n",
       "_C20: - LayOff_Feb - Train_Feb + 1.2 Trained_Feb + Untrained_Feb >= 100\n",
       "\n",
       "_C21: - LayOff_Mar - Train_Mar + 1.2 Trained_Mar + Untrained_Mar >= 115\n",
       "\n",
       "_C22: - LayOff_Apr - Train_Apr + 1.2 Trained_Apr + Untrained_Apr >= 125\n",
       "\n",
       "_C23: - LayOff_May - Train_May + 1.2 Trained_May + Untrained_May >= 140\n",
       "\n",
       "_C24: - LayOff_Jun - Train_Jun + 1.2 Trained_Jun + Untrained_Jun >= 150\n",
       "\n",
       "_C25: LayOff_Jan + Train_Jan + Untrained_Jan = 145\n",
       "\n",
       "_C26: Trained_Jan = 0\n",
       "\n",
       "_C27: LayOff_Jan - 0.1 Train_Jan + Untrained_Feb - 0.95 Untrained_Jan = 0\n",
       "\n",
       "_C28: - 0.9 Train_Jan + Trained_Feb - Trained_Jan = 0\n",
       "\n",
       "_C29: LayOff_Feb - 0.1 Train_Feb - 0.95 Untrained_Feb + Untrained_Mar = 0\n",
       "\n",
       "_C30: - 0.9 Train_Feb - Trained_Feb + Trained_Mar = 0\n",
       "\n",
       "_C31: LayOff_Mar - 0.1 Train_Mar + Untrained_Apr - 0.95 Untrained_Mar = 0\n",
       "\n",
       "_C32: - 0.9 Train_Mar + Trained_Apr - Trained_Mar = 0\n",
       "\n",
       "_C33: LayOff_Apr - 0.1 Train_Apr - 0.95 Untrained_Apr + Untrained_May = 0\n",
       "\n",
       "_C34: - 0.9 Train_Apr - Trained_Apr + Trained_May = 0\n",
       "\n",
       "_C35: LayOff_May - 0.1 Train_May + Untrained_Jun - 0.95 Untrained_May = 0\n",
       "\n",
       "_C36: - 0.9 Train_May + Trained_Jun - Trained_May = 0\n",
       "\n",
       "VARIABLES\n",
       "LayOff_Apr Continuous\n",
       "LayOff_Feb Continuous\n",
       "LayOff_Jan Continuous\n",
       "LayOff_Jun Continuous\n",
       "LayOff_Mar Continuous\n",
       "LayOff_May Continuous\n",
       "Train_Apr Continuous\n",
       "Train_Feb Continuous\n",
       "Train_Jan Continuous\n",
       "Train_Jun Continuous\n",
       "Train_Mar Continuous\n",
       "Train_May Continuous\n",
       "Trained_Apr Continuous\n",
       "Trained_Feb Continuous\n",
       "Trained_Jan Continuous\n",
       "Trained_Jun Continuous\n",
       "Trained_Mar Continuous\n",
       "Trained_May Continuous\n",
       "Untrained_Apr Continuous\n",
       "Untrained_Feb Continuous\n",
       "Untrained_Jan Continuous\n",
       "Untrained_Jun Continuous\n",
       "Untrained_Mar Continuous\n",
       "Untrained_May Continuous"
      ]
     },
     "execution_count": 6,
     "metadata": {},
     "output_type": "execute_result"
    }
   ],
   "source": [
    "prob2"
   ]
  },
  {
   "cell_type": "markdown",
   "metadata": {},
   "source": [
    "### Step 5 Solve the problem"
   ]
  },
  {
   "cell_type": "code",
   "execution_count": 7,
   "metadata": {
    "tags": []
   },
   "outputs": [
    {
     "name": "stdout",
     "output_type": "stream",
     "text": [
      "Status: Optimal\n"
     ]
    }
   ],
   "source": [
    "#pulpTestAll()  # test solvers\n",
    "prob2.solve()\n",
    "#probA.solve(solver=GUROBI_CMD())\n",
    "print(\"Status:\",LpStatus[prob2.status])"
   ]
  },
  {
   "cell_type": "markdown",
   "metadata": {
    "tags": []
   },
   "source": [
    "### Step 6 Print the optimal solution"
   ]
  },
  {
   "cell_type": "code",
   "execution_count": 8,
   "metadata": {
    "tags": []
   },
   "outputs": [
    {
     "name": "stdout",
     "output_type": "stream",
     "text": [
      "LayOff_Apr = 0.0\n",
      "LayOff_Feb = 0.0\n",
      "LayOff_Jan = 12.8056\n",
      "LayOff_Jun = 0.0\n",
      "LayOff_Mar = 0.0\n",
      "LayOff_May = 0.0\n",
      "Train_Apr = 12.1927\n",
      "Train_Feb = 15.0089\n",
      "Train_Jan = 9.69443\n",
      "Train_Jun = 0.0\n",
      "Train_Mar = 12.4924\n",
      "Train_May = 6.72912\n",
      "Trained_Apr = 33.4761\n",
      "Trained_Feb = 8.72499\n",
      "Trained_Jan = 0.0\n",
      "Trained_Jun = 50.5058\n",
      "Trained_Mar = 22.233\n",
      "Trained_May = 44.4496\n",
      "Untrained_Apr = 97.0214\n",
      "Untrained_Feb = 104.539\n",
      "Untrained_Jan = 122.5\n",
      "Untrained_Jun = 89.3931\n",
      "Untrained_Mar = 100.813\n",
      "Untrained_May = 93.3896\n",
      "Total cost= 2348953.6169999996\n"
     ]
    }
   ],
   "source": [
    "for v in prob2.variables():\n",
    "    print(v.name, \"=\", v.varValue)\n",
    "    \n",
    "print(\"Total cost=\", value(prob2.objective))"
   ]
  }
 ],
 "metadata": {
  "colab": {
   "collapsed_sections": [
    "cbEQlIplwY5k",
    "EBUEG5-Cnglm",
    "HBHgRvCEzJAD",
    "IeWbEvilxC5P",
    "Rhly7BwrzPdf",
    "neI3PXRV5Y5f",
    "t5h7PZ-Q6L09",
    "0Nlsk4V16P08",
    "fnWLIf0r_POH",
    "rnvyAlV5_mMz",
    "OQk3oN_T_yl2",
    "2FCZXiuY_uIf",
    "GS1h4S8LvHyJ"
   ],
   "name": "2021_10_01_meeting.ipynb",
   "provenance": []
  },
  "finalized": {
   "timestamp": 1648976842917,
   "trusted": false
  },
  "kernelspec": {
   "display_name": "Python 3 (ipykernel)",
   "language": "python",
   "name": "python3"
  },
  "language_info": {
   "codemirror_mode": {
    "name": "ipython",
    "version": 3
   },
   "file_extension": ".py",
   "mimetype": "text/x-python",
   "name": "python",
   "nbconvert_exporter": "python",
   "pygments_lexer": "ipython3",
   "version": "3.11.5"
  }
 },
 "nbformat": 4,
 "nbformat_minor": 4
}
