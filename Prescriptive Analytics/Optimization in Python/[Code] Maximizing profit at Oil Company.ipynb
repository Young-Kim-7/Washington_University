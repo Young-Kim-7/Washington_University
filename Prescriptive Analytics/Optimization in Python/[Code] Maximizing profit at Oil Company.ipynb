{
 "cells": [
  {
   "cell_type": "markdown",
   "metadata": {
    "id": "cbEQlIplwY5k",
    "tags": []
   },
   "source": [
    "# Lab 3\n",
    "\n",
    "## Problem 1\n",
    "---"
   ]
  },
  {
   "cell_type": "markdown",
   "metadata": {},
   "source": [
    "## Mathematical Formulation"
   ]
  },
  {
   "cell_type": "markdown",
   "metadata": {},
   "source": [
    "### Sets / Indices\n",
    "*   $I$: type of oli (regular, supreme)\n",
    "*   $J$: type of input (1,2,3)"
   ]
  },
  {
   "cell_type": "markdown",
   "metadata": {},
   "source": [
    "### Parameters\n",
    "*   $p_{i,j}$: unit revenue [$\\$$ / br] of each oil type $j \\in J$ per input type $i \\in I$\n",
    "*   $c_{i,j}$: unit cost [$\\$$ / br] of each oil type $j \\in J$ per input type $i \\in I$\n",
    "*   $M_{j}$: production capacity [barrels] per input type $i \\in I$\n",
    "*   $D_{i}$: required demand [barrels] per oil type $j \\in J$ "
   ]
  },
  {
   "cell_type": "markdown",
   "metadata": {},
   "source": [
    "### Decision variables\n",
    "*   $x_{i,j}$: barrel [br] of available inputs $j \\in J$ for the production of regular and supreme gasoline $i \\in I$ (continuous variable)"
   ]
  },
  {
   "cell_type": "markdown",
   "metadata": {},
   "source": [
    "### Objective function"
   ]
  },
  {
   "cell_type": "markdown",
   "metadata": {},
   "source": [
    "\\begin{aligned}\n",
    "\\max_{x} \\quad & \\sum\\limits_{i \\in I, j \\in J} (p_{i,j} - c_{i,j}) \\; x_{i,j} & & & \n",
    "\\end{aligned}"
   ]
  },
  {
   "cell_type": "markdown",
   "metadata": {},
   "source": [
    "### Constraints"
   ]
  },
  {
   "cell_type": "markdown",
   "metadata": {
    "id": "CYaEvb0FAIvs"
   },
   "source": [
    "\\begin{aligned}\n",
    "\\textrm{(capacity)} \\quad & \\sum\\limits_{i \\in I} x_{i,j} & \\leq & \\quad M_{j}, & \\forall j \\in J, \\\\\n",
    "\\end{aligned}\n"
   ]
  },
  {
   "cell_type": "markdown",
   "metadata": {
    "id": "CYaEvb0FAIvs"
   },
   "source": [
    "\\begin{aligned}\n",
    "\\textrm{(demand)} \\quad & \\sum\\limits_{j \\in J} x_{i,j} & = & \\quad D_{i}, & \\forall i \\in I, \\\\\n",
    "\\end{aligned}\n"
   ]
  },
  {
   "cell_type": "markdown",
   "metadata": {
    "tags": []
   },
   "source": [
    "\\begin{aligned}\n",
    "\\textrm{(Octane rating)} \\quad & regular >= 90,  supreme >= 97\\\n",
    "\\end{aligned}"
   ]
  },
  {
   "cell_type": "markdown",
   "metadata": {},
   "source": [
    "\\begin{aligned}\n",
    "\\textrm{(Nonnegativity)} \\quad & x_{i,j} & \\geq & \\quad 0, & \\forall i \\in I, \\forall j \\in J. \\\\\n",
    "\\end{aligned}"
   ]
  },
  {
   "cell_type": "markdown",
   "metadata": {},
   "source": [
    "---"
   ]
  },
  {
   "cell_type": "markdown",
   "metadata": {},
   "source": [
    "## Optimization using PuLP"
   ]
  },
  {
   "cell_type": "markdown",
   "metadata": {},
   "source": [
    "### Step 1: Setup"
   ]
  },
  {
   "cell_type": "markdown",
   "metadata": {},
   "source": [
    "#### Import required packages"
   ]
  },
  {
   "cell_type": "code",
   "execution_count": 1,
   "metadata": {},
   "outputs": [],
   "source": [
    "import numpy as np\n",
    "import pandas as pd\n",
    "from pulp import *"
   ]
  },
  {
   "cell_type": "markdown",
   "metadata": {},
   "source": [
    "### Step 2 Create a LP Maximization problem"
   ]
  },
  {
   "cell_type": "code",
   "execution_count": 2,
   "metadata": {
    "tags": []
   },
   "outputs": [],
   "source": [
    "prob1 = LpProblem(\"Riverside_Oil_Company_Problem\", LpMaximize)"
   ]
  },
  {
   "cell_type": "markdown",
   "metadata": {},
   "source": [
    "### Step 3 Add decision variables"
   ]
  },
  {
   "cell_type": "code",
   "execution_count": 3,
   "metadata": {
    "tags": []
   },
   "outputs": [],
   "source": [
    "# Decision Variables\n",
    "R1 = LpVariable('R1', lowBound=0, cat='Continuous')\n",
    "R2 = LpVariable('R2', lowBound=0, cat='Continuous')\n",
    "R3 = LpVariable('R3', lowBound=0, cat='Continuous')\n",
    "S1 = LpVariable('S1', lowBound=0, cat='Continuous')\n",
    "S2 = LpVariable('S2', lowBound=0, cat='Continuous')\n",
    "S3 = LpVariable('S3', lowBound=0, cat='Continuous')"
   ]
  },
  {
   "cell_type": "markdown",
   "metadata": {},
   "source": [
    "### Step 4 Add the objective function and constraints"
   ]
  },
  {
   "cell_type": "code",
   "execution_count": 4,
   "metadata": {
    "tags": []
   },
   "outputs": [],
   "source": [
    "# Objective function\n",
    "prob1 += (21 - (17.25*R1 + 15.75*R2 + 17.75*R3)/300_000) * 300_000 + \\\n",
    "        (25 - (17.25*S1 + 15.75*S2 + 17.75*S3)/450_000) * 450_000\n",
    "\n",
    "# Constraints\n",
    "prob1 += 100*R1 + 87*R2 + 110*R3 >= 90 * (R1 + R2 + R3)  # Octane rating for regular\n",
    "prob1 += 100*S1 + 87*S2 + 110*S3 >= 97 * (S1 + S2 + S3)  # Octane rating for supreme\n",
    "prob1 += R1 + S1 <= 150_000  # Supply constraint for Input 1\n",
    "prob1 += R2 + S2 <= 350_000  # Supply constraint for Input 2\n",
    "prob1 += R3 + S3 <= 300_000  # Supply constraint for Input 3\n",
    "prob1 += R1 + R2 + R3 == 300_000  # Demand for regular\n",
    "prob1 += S1 + S2 + S3 == 450_000  # Demand for supreme"
   ]
  },
  {
   "cell_type": "code",
   "execution_count": 5,
   "metadata": {
    "tags": []
   },
   "outputs": [
    {
     "data": {
      "text/plain": [
       "Riverside_Oil_Company_Problem:\n",
       "MAXIMIZE\n",
       "-17.25*R1 + -15.75*R2 + -17.75*R3 + -17.25*S1 + -15.749999999999998*S2 + -17.75*S3 + 17550000.0\n",
       "SUBJECT TO\n",
       "_C1: 10 R1 - 3 R2 + 20 R3 >= 0\n",
       "\n",
       "_C2: 3 S1 - 10 S2 + 13 S3 >= 0\n",
       "\n",
       "_C3: R1 + S1 <= 150000\n",
       "\n",
       "_C4: R2 + S2 <= 350000\n",
       "\n",
       "_C5: R3 + S3 <= 300000\n",
       "\n",
       "_C6: R1 + R2 + R3 = 300000\n",
       "\n",
       "_C7: S1 + S2 + S3 = 450000\n",
       "\n",
       "VARIABLES\n",
       "R1 Continuous\n",
       "R2 Continuous\n",
       "R3 Continuous\n",
       "S1 Continuous\n",
       "S2 Continuous\n",
       "S3 Continuous"
      ]
     },
     "execution_count": 5,
     "metadata": {},
     "output_type": "execute_result"
    }
   ],
   "source": [
    "prob1"
   ]
  },
  {
   "cell_type": "markdown",
   "metadata": {},
   "source": [
    "### Step 5 Solve the problem"
   ]
  },
  {
   "cell_type": "code",
   "execution_count": 6,
   "metadata": {
    "tags": []
   },
   "outputs": [
    {
     "name": "stdout",
     "output_type": "stream",
     "text": [
      "Status: Optimal\n"
     ]
    }
   ],
   "source": [
    "prob1.writeLP(\"problem1.lp\") #optional\n",
    "#pulpTestAll()  # test solvers\n",
    "prob1.solve()\n",
    "#probA.solve(solver=GUROBI_CMD())\n",
    "print(\"Status:\",LpStatus[prob1.status])"
   ]
  },
  {
   "cell_type": "markdown",
   "metadata": {
    "tags": []
   },
   "source": [
    "### Step 6 Print the optimal solution"
   ]
  },
  {
   "cell_type": "code",
   "execution_count": 8,
   "metadata": {
    "tags": []
   },
   "outputs": [
    {
     "name": "stdout",
     "output_type": "stream",
     "text": [
      "R1 = 0.0 \tReduced Cost = None\n",
      "R2 = 260870.0 \tReduced Cost = None\n",
      "R3 = 39130.4 \tReduced Cost = None\n",
      "S1 = 150000.0 \tReduced Cost = None\n",
      "S2 = 89130.4 \tReduced Cost = None\n",
      "S3 = 210870.0 \tReduced Cost = None\n",
      "Total profit= 5012486.6000000015\n"
     ]
    }
   ],
   "source": [
    "for v in prob1.variables():\n",
    "    print(v.name, \"=\", v.varValue,\"\\tReduced Cost =\", v.dj)\n",
    "    \n",
    "print(\"Total profit=\", value(prob1.objective))"
   ]
  }
 ],
 "metadata": {
  "colab": {
   "collapsed_sections": [
    "cbEQlIplwY5k",
    "EBUEG5-Cnglm",
    "HBHgRvCEzJAD",
    "IeWbEvilxC5P",
    "Rhly7BwrzPdf",
    "neI3PXRV5Y5f",
    "t5h7PZ-Q6L09",
    "0Nlsk4V16P08",
    "fnWLIf0r_POH",
    "rnvyAlV5_mMz",
    "OQk3oN_T_yl2",
    "2FCZXiuY_uIf",
    "GS1h4S8LvHyJ"
   ],
   "name": "2021_10_01_meeting.ipynb",
   "provenance": []
  },
  "finalized": {
   "timestamp": 1648976842917,
   "trusted": false
  },
  "kernelspec": {
   "display_name": "Python 3 (ipykernel)",
   "language": "python",
   "name": "python3"
  },
  "language_info": {
   "codemirror_mode": {
    "name": "ipython",
    "version": 3
   },
   "file_extension": ".py",
   "mimetype": "text/x-python",
   "name": "python",
   "nbconvert_exporter": "python",
   "pygments_lexer": "ipython3",
   "version": "3.11.5"
  }
 },
 "nbformat": 4,
 "nbformat_minor": 4
}
