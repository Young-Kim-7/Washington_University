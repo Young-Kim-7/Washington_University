{
 "cells": [
  {
   "cell_type": "markdown",
   "metadata": {
    "id": "cbEQlIplwY5k",
    "tags": []
   },
   "source": [
    "# Lab 3\n",
    "\n",
    "## Problem 2\n",
    "---"
   ]
  },
  {
   "cell_type": "markdown",
   "metadata": {},
   "source": [
    "## Mathematical Formulation"
   ]
  },
  {
   "cell_type": "markdown",
   "metadata": {},
   "source": [
    "### Sets / Indices\n",
    "*   $I$: a start month in which the lease contracted is signed.\n",
    "*   $J$: a duration of the lease agreement"
   ]
  },
  {
   "cell_type": "markdown",
   "metadata": {},
   "source": [
    "### Parameters\n",
    "*   $c_{i,j}$: unit cost [$\\$$ / month] of each duration of lease $j \\in J$ per each start month $i \\in I$\n",
    "*   $D_{i}$: Additional Space Nedded $j \\in J$ "
   ]
  },
  {
   "cell_type": "markdown",
   "metadata": {},
   "source": [
    "### Decision variables\n",
    "*   $x_{i,j}$: space of additional space leased $j \\in J$ for the duration of lease $i \\in I$ (continuous variable)"
   ]
  },
  {
   "cell_type": "markdown",
   "metadata": {},
   "source": [
    "### Objective function"
   ]
  },
  {
   "cell_type": "markdown",
   "metadata": {},
   "source": [
    "\\begin{aligned}\n",
    "\\min_{x} \\quad & \\sum\\limits_{i \\in I, j \\in J} c_{i,j} \\; x_{i,j} & & & \n",
    "\\end{aligned}"
   ]
  },
  {
   "cell_type": "markdown",
   "metadata": {},
   "source": [
    "### Constraints"
   ]
  },
  {
   "cell_type": "markdown",
   "metadata": {
    "id": "CYaEvb0FAIvs"
   },
   "source": [
    "\\begin{aligned}\n",
    "\\textrm{(Needs)} \\quad & \\sum\\limits_{j \\in J} x_{i,j} & \\geq & \\quad D_{i}, & \\forall i \\in I, \\\\\n",
    "\\end{aligned}\n"
   ]
  },
  {
   "cell_type": "markdown",
   "metadata": {},
   "source": [
    "\\begin{aligned}\n",
    "\\textrm{(Nonnegativity)} \\quad & x_{i,j} & \\geq & \\quad 0, & \\forall i \\in I, \\forall j \\in J. \\\\\n",
    "\\end{aligned}"
   ]
  },
  {
   "cell_type": "markdown",
   "metadata": {},
   "source": [
    "---"
   ]
  },
  {
   "cell_type": "markdown",
   "metadata": {},
   "source": [
    "## Optimization using PuLP"
   ]
  },
  {
   "cell_type": "markdown",
   "metadata": {},
   "source": [
    "### Step 1: Setup"
   ]
  },
  {
   "cell_type": "markdown",
   "metadata": {},
   "source": [
    "#### Import required packages"
   ]
  },
  {
   "cell_type": "code",
   "execution_count": 1,
   "metadata": {},
   "outputs": [],
   "source": [
    "import numpy as np\n",
    "import pandas as pd\n",
    "from pulp import *"
   ]
  },
  {
   "cell_type": "markdown",
   "metadata": {},
   "source": [
    "### Step 2 Create a LP Maximization problem"
   ]
  },
  {
   "cell_type": "code",
   "execution_count": 2,
   "metadata": {
    "tags": []
   },
   "outputs": [],
   "source": [
    "prob2 = LpProblem(\"Warehouse_Space_Problem\", LpMinimize)"
   ]
  },
  {
   "cell_type": "code",
   "execution_count": 3,
   "metadata": {
    "tags": []
   },
   "outputs": [],
   "source": [
    "# Additional space required each month (in sq 1000 ft)\n",
    "additional_space = {1: 25, 2: 10, 3: 20, 4: 10, 5: 5}"
   ]
  },
  {
   "cell_type": "code",
   "execution_count": 4,
   "metadata": {
    "tags": []
   },
   "outputs": [],
   "source": [
    "# Costs per 1000 sq ft for different lease lengths\n",
    "lease_costs = {1: 300, 2: 525, 3: 775, 4: 850, 5: 975}"
   ]
  },
  {
   "cell_type": "markdown",
   "metadata": {},
   "source": [
    "### Step 3 Add decision variables"
   ]
  },
  {
   "cell_type": "code",
   "execution_count": 5,
   "metadata": {
    "tags": []
   },
   "outputs": [],
   "source": [
    "# Decision Variables: x_ij where i is the start month, j is the lease duration\n",
    "x = {(i, j): LpVariable(f\"x_{i}_{j}\", lowBound=0, cat='Continuous') \n",
    "     for i in range(1, 6) for j in range(1, 6 - i + 1)}"
   ]
  },
  {
   "cell_type": "markdown",
   "metadata": {},
   "source": [
    "### Step 4 Add the objective function and constraints"
   ]
  },
  {
   "cell_type": "code",
   "execution_count": 6,
   "metadata": {
    "tags": []
   },
   "outputs": [],
   "source": [
    "# Objective function\n",
    "prob2 += lpSum([lease_costs[j] * x[(i, j)] for i in range(1, 6) \n",
    "                   for j in range(1, 6 - i + 1) ])\n",
    "\n",
    "# Constraints to ensure enough space is leased each month\n",
    "for month in range(1, 6):\n",
    "    prob2 += lpSum([x[(i, j)] for i in range(1, month + 1) \n",
    "                       for j in range(1, 6 - i + 1) if i + j -1 >= month ]) >= additional_space[month]\n"
   ]
  },
  {
   "cell_type": "code",
   "execution_count": 7,
   "metadata": {
    "tags": []
   },
   "outputs": [
    {
     "data": {
      "text/plain": [
       "Warehouse_Space_Problem:\n",
       "MINIMIZE\n",
       "300*x_1_1 + 525*x_1_2 + 775*x_1_3 + 850*x_1_4 + 975*x_1_5 + 300*x_2_1 + 525*x_2_2 + 775*x_2_3 + 850*x_2_4 + 300*x_3_1 + 525*x_3_2 + 775*x_3_3 + 300*x_4_1 + 525*x_4_2 + 300*x_5_1 + 0\n",
       "SUBJECT TO\n",
       "_C1: x_1_1 + x_1_2 + x_1_3 + x_1_4 + x_1_5 >= 25\n",
       "\n",
       "_C2: x_1_2 + x_1_3 + x_1_4 + x_1_5 + x_2_1 + x_2_2 + x_2_3 + x_2_4 >= 10\n",
       "\n",
       "_C3: x_1_3 + x_1_4 + x_1_5 + x_2_2 + x_2_3 + x_2_4 + x_3_1 + x_3_2 + x_3_3\n",
       " >= 20\n",
       "\n",
       "_C4: x_1_4 + x_1_5 + x_2_3 + x_2_4 + x_3_2 + x_3_3 + x_4_1 + x_4_2 >= 10\n",
       "\n",
       "_C5: x_1_5 + x_2_4 + x_3_3 + x_4_2 + x_5_1 >= 5\n",
       "\n",
       "VARIABLES\n",
       "x_1_1 Continuous\n",
       "x_1_2 Continuous\n",
       "x_1_3 Continuous\n",
       "x_1_4 Continuous\n",
       "x_1_5 Continuous\n",
       "x_2_1 Continuous\n",
       "x_2_2 Continuous\n",
       "x_2_3 Continuous\n",
       "x_2_4 Continuous\n",
       "x_3_1 Continuous\n",
       "x_3_2 Continuous\n",
       "x_3_3 Continuous\n",
       "x_4_1 Continuous\n",
       "x_4_2 Continuous\n",
       "x_5_1 Continuous"
      ]
     },
     "execution_count": 7,
     "metadata": {},
     "output_type": "execute_result"
    }
   ],
   "source": [
    "prob2"
   ]
  },
  {
   "cell_type": "markdown",
   "metadata": {},
   "source": [
    "### Step 5 Solve the problem"
   ]
  },
  {
   "cell_type": "code",
   "execution_count": 8,
   "metadata": {
    "tags": []
   },
   "outputs": [
    {
     "name": "stdout",
     "output_type": "stream",
     "text": [
      "Status: Optimal\n"
     ]
    }
   ],
   "source": [
    "prob2.writeLP(\"problem2.lp\") #optional\n",
    "#pulpTestAll()  # test solvers\n",
    "prob2.solve()\n",
    "#probA.solve(solver=GUROBI_CMD())\n",
    "print(\"Status:\",LpStatus[prob2.status])"
   ]
  },
  {
   "cell_type": "markdown",
   "metadata": {
    "tags": []
   },
   "source": [
    "### Step 6 Print the optimal solution"
   ]
  },
  {
   "cell_type": "code",
   "execution_count": 9,
   "metadata": {
    "tags": []
   },
   "outputs": [
    {
     "name": "stdout",
     "output_type": "stream",
     "text": [
      "x_1_1 = 15.0 \tReduced Cost = None\n",
      "x_1_2 = 0.0 \tReduced Cost = None\n",
      "x_1_3 = 0.0 \tReduced Cost = None\n",
      "x_1_4 = 5.0 \tReduced Cost = None\n",
      "x_1_5 = 5.0 \tReduced Cost = None\n",
      "x_2_1 = 0.0 \tReduced Cost = None\n",
      "x_2_2 = 0.0 \tReduced Cost = None\n",
      "x_2_3 = 0.0 \tReduced Cost = None\n",
      "x_2_4 = 0.0 \tReduced Cost = None\n",
      "x_3_1 = 10.0 \tReduced Cost = None\n",
      "x_3_2 = 0.0 \tReduced Cost = None\n",
      "x_3_3 = 0.0 \tReduced Cost = None\n",
      "x_4_1 = 0.0 \tReduced Cost = None\n",
      "x_4_2 = 0.0 \tReduced Cost = None\n",
      "x_5_1 = 0.0 \tReduced Cost = None\n",
      "Total cost= 16625.0\n"
     ]
    }
   ],
   "source": [
    "for v in prob2.variables():\n",
    "    print(v.name, \"=\", v.varValue,\"\\tReduced Cost =\", v.dj)\n",
    "    \n",
    "print(\"Total cost=\", value(prob2.objective))"
   ]
  }
 ],
 "metadata": {
  "colab": {
   "collapsed_sections": [
    "cbEQlIplwY5k",
    "EBUEG5-Cnglm",
    "HBHgRvCEzJAD",
    "IeWbEvilxC5P",
    "Rhly7BwrzPdf",
    "neI3PXRV5Y5f",
    "t5h7PZ-Q6L09",
    "0Nlsk4V16P08",
    "fnWLIf0r_POH",
    "rnvyAlV5_mMz",
    "OQk3oN_T_yl2",
    "2FCZXiuY_uIf",
    "GS1h4S8LvHyJ"
   ],
   "name": "2021_10_01_meeting.ipynb",
   "provenance": []
  },
  "finalized": {
   "timestamp": 1648976842917,
   "trusted": false
  },
  "kernelspec": {
   "display_name": "Python 3 (ipykernel)",
   "language": "python",
   "name": "python3"
  },
  "language_info": {
   "codemirror_mode": {
    "name": "ipython",
    "version": 3
   },
   "file_extension": ".py",
   "mimetype": "text/x-python",
   "name": "python",
   "nbconvert_exporter": "python",
   "pygments_lexer": "ipython3",
   "version": "3.11.5"
  }
 },
 "nbformat": 4,
 "nbformat_minor": 4
}
