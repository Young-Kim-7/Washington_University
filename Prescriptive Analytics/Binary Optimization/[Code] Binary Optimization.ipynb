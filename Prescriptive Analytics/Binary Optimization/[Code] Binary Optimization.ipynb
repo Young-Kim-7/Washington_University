{
 "cells": [
  {
   "cell_type": "markdown",
   "id": "f4bda73d-a6db-43ad-909d-9a643971b8dd",
   "metadata": {},
   "source": [
    "## Problem 1: A consulting firm"
   ]
  },
  {
   "cell_type": "markdown",
   "id": "575fc15f-fbe6-45cb-84bc-d9bdab6e5a01",
   "metadata": {},
   "source": [
    "### Step 1: Setup"
   ]
  },
  {
   "cell_type": "code",
   "execution_count": 1,
   "id": "f7f221aa-5fb3-4bb2-800a-f026a7703583",
   "metadata": {
    "tags": []
   },
   "outputs": [],
   "source": [
    "import numpy as np\n",
    "import pandas as pd\n",
    "from pulp import *"
   ]
  },
  {
   "cell_type": "code",
   "execution_count": 2,
   "id": "f1063b22-439f-40d3-9563-c1221f7ec459",
   "metadata": {
    "tags": []
   },
   "outputs": [],
   "source": [
    "# Define the parameters\n",
    "experience = {1: 2, 2: 3, 3: 4, 4: 2, 5: 1, 6: 3, 7: 1, 8: 4}\n",
    "gender = {1: 'F', 2: 'F', 3: 'M', 4: 'M', 5: 'F', 6: 'M', 7: 'M', 8: 'F'}\n",
    "us = {1: 'Yes', 2: 'No', 3: 'Yes', 4: 'No', 5: 'No', 6: 'Yes', 7: 'Yes', 8: 'No'}"
   ]
  },
  {
   "cell_type": "markdown",
   "id": "9c080873-4969-4f5b-a10d-46ba83067ddd",
   "metadata": {},
   "source": [
    "### Step 2: Create a LP Maximization problem"
   ]
  },
  {
   "cell_type": "code",
   "execution_count": 3,
   "id": "1568eb57-2471-47c2-b8e7-a97b382f57ce",
   "metadata": {
    "tags": []
   },
   "outputs": [],
   "source": [
    "prob1 = LpProblem(name=\"consulting\", sense=LpMaximize)"
   ]
  },
  {
   "cell_type": "markdown",
   "id": "994e7dc8-f0cc-44fc-8142-08338ee3bafe",
   "metadata": {},
   "source": [
    "### Step 3: Add decision variables"
   ]
  },
  {
   "cell_type": "code",
   "execution_count": 4,
   "id": "b16f528f-ab7b-404f-b335-b9d62fc6ec6d",
   "metadata": {
    "tags": []
   },
   "outputs": [],
   "source": [
    "x1 = LpVariable(name=\"x1\", cat=\"Binary\")\n",
    "x2 = LpVariable(name=\"x2\", cat=\"Binary\")\n",
    "x3 = LpVariable(name=\"x3\", cat=\"Binary\")\n",
    "x4 = LpVariable(name=\"x4\", cat=\"Binary\")\n",
    "x5 = LpVariable(name=\"x5\", cat=\"Binary\")\n",
    "x6 = LpVariable(name=\"x6\", cat=\"Binary\")\n",
    "x7 = LpVariable(name=\"x7\", cat=\"Binary\")\n",
    "x8 = LpVariable(name=\"x8\", cat=\"Binary\")"
   ]
  },
  {
   "cell_type": "markdown",
   "id": "a03aaa22-224d-4fa5-b187-009c079095ea",
   "metadata": {},
   "source": [
    "### Step 4: Add the objective function and constraints"
   ]
  },
  {
   "cell_type": "code",
   "execution_count": 5,
   "id": "e8e8eb58-cf10-4e01-9b91-f0ca89b3e4df",
   "metadata": {
    "tags": []
   },
   "outputs": [],
   "source": [
    "# Objectvie function: the total experience of the team\n",
    "prob1 += 2*x1 + 3*x2 + 4*x3 + 2*x4 + 1*x5 + 3*x6 + 1*x7 + 4*x8\n",
    "\n",
    "# Constraint 1: the number of team members\n",
    "prob1 += x1 + x2 + x3 + x4 + x5 + x6 + x7 + x8 == 4\n",
    "\n",
    "# Constraint 2: gender balance\n",
    "prob1 += x3 + x4 + x6 + x7 == 2  # Sum of males\n",
    "prob1 += x1 + x2 + x5 + x8 == 2  # Sum of females\n",
    "\n",
    "# Constraint 3:  US citizenship balance\n",
    "prob1 += x1 + x3 + x6 + x7 == 2  # Sum of US citizens\n",
    "prob1 += x2 + x4 + x5 + x8 == 2  # Sum of non-US citizens"
   ]
  },
  {
   "cell_type": "code",
   "execution_count": 7,
   "id": "a676f715-cbd4-4b53-8477-6869f4d319a8",
   "metadata": {
    "tags": []
   },
   "outputs": [
    {
     "data": {
      "text/plain": [
       "consulting:\n",
       "MAXIMIZE\n",
       "2*x1 + 3*x2 + 4*x3 + 2*x4 + 1*x5 + 3*x6 + 1*x7 + 4*x8 + 0\n",
       "SUBJECT TO\n",
       "_C1: x1 + x2 + x3 + x4 + x5 + x6 + x7 + x8 = 4\n",
       "\n",
       "_C2: x3 + x4 + x6 + x7 = 2\n",
       "\n",
       "_C3: x1 + x2 + x5 + x8 = 2\n",
       "\n",
       "_C4: x1 + x3 + x6 + x7 = 2\n",
       "\n",
       "_C5: x2 + x4 + x5 + x8 = 2\n",
       "\n",
       "VARIABLES\n",
       "0 <= x1 <= 1 Integer\n",
       "0 <= x2 <= 1 Integer\n",
       "0 <= x3 <= 1 Integer\n",
       "0 <= x4 <= 1 Integer\n",
       "0 <= x5 <= 1 Integer\n",
       "0 <= x6 <= 1 Integer\n",
       "0 <= x7 <= 1 Integer\n",
       "0 <= x8 <= 1 Integer"
      ]
     },
     "execution_count": 7,
     "metadata": {},
     "output_type": "execute_result"
    }
   ],
   "source": [
    "prob1"
   ]
  },
  {
   "cell_type": "markdown",
   "id": "6f823bd8-aff0-40e3-a014-4ebcb2020e53",
   "metadata": {},
   "source": [
    "### Step 5: Solve the problem"
   ]
  },
  {
   "cell_type": "code",
   "execution_count": 8,
   "id": "0797d7fb-d387-4b6d-9d35-9b4cb87bdb3b",
   "metadata": {
    "tags": []
   },
   "outputs": [
    {
     "name": "stdout",
     "output_type": "stream",
     "text": [
      "Status: Optimal\n"
     ]
    }
   ],
   "source": [
    "prob1.solve()\n",
    "print(\"Status:\",LpStatus[prob1.status])"
   ]
  },
  {
   "cell_type": "markdown",
   "id": "0e6a23c4-61d9-4f51-b931-4ea10362d4d0",
   "metadata": {},
   "source": [
    "### (problem a) Step 6: Print the optimal solution "
   ]
  },
  {
   "cell_type": "code",
   "execution_count": 11,
   "id": "8201ada0-b1cd-498b-b1fe-3d476832d19c",
   "metadata": {
    "tags": []
   },
   "outputs": [
    {
     "name": "stdout",
     "output_type": "stream",
     "text": [
      "{'x1': 0, 'x2': 1, 'x3': 1, 'x4': 0, 'x5': 0, 'x6': 1, 'x7': 0, 'x8': 1}\n",
      "Total experience= 14\n"
     ]
    }
   ],
   "source": [
    "solution_variables = {v.name: v.varValue for v in prob1.variables()}\n",
    "\n",
    "print(solution_variables)\n",
    "print(\"Total experience=\", value(prob1.objective))"
   ]
  },
  {
   "cell_type": "markdown",
   "id": "179018e9-080d-414a-9b2b-1cefa4d72123",
   "metadata": {},
   "source": [
    "### (problem b) further constraints"
   ]
  },
  {
   "cell_type": "code",
   "execution_count": 12,
   "id": "6f0cd5da-a274-4084-91ae-1fbd1eaf0461",
   "metadata": {
    "tags": []
   },
   "outputs": [],
   "source": [
    "#1) If Associate 1 is chosen, then Associate 3 cannot be chosen.\n",
    "prob1 += x1 + x3 <= 1\n",
    "\n",
    "#2) If Associate 2 is chosen, then Associates 6 and 7 need to be chosen.\n",
    "prob1 += x2 - x6 <= 0\n",
    "prob1 += x2 - x7 <= 0\n",
    "\n",
    "#3) Associates 5 and 8 dislike each other and should not be chosen together.\n",
    "prob1 += x5 + x8 <= 1"
   ]
  },
  {
   "cell_type": "code",
   "execution_count": 13,
   "id": "14a71a42-9ce8-4a32-bf69-28cebbc8d2b0",
   "metadata": {
    "tags": []
   },
   "outputs": [
    {
     "name": "stdout",
     "output_type": "stream",
     "text": [
      "Status: Optimal\n"
     ]
    }
   ],
   "source": [
    "prob1.solve()\n",
    "print(\"Status:\",LpStatus[prob1.status])"
   ]
  },
  {
   "cell_type": "code",
   "execution_count": 14,
   "id": "ce2ee50f-6f9e-4abe-85d8-b65eb6b0f9a6",
   "metadata": {
    "tags": []
   },
   "outputs": [
    {
     "name": "stdout",
     "output_type": "stream",
     "text": [
      "{'x1': 1, 'x2': 0, 'x3': 0, 'x4': 1, 'x5': 0, 'x6': 1, 'x7': 0, 'x8': 1}\n",
      "Total experience= 11\n"
     ]
    }
   ],
   "source": [
    "solution_variables = {v.name: v.varValue for v in prob1.variables()}\n",
    "\n",
    "print(solution_variables)\n",
    "print(\"Total experience=\", value(prob1.objective))"
   ]
  }
 ],
 "metadata": {
  "kernelspec": {
   "display_name": "Python 3 (ipykernel)",
   "language": "python",
   "name": "python3"
  },
  "language_info": {
   "codemirror_mode": {
    "name": "ipython",
    "version": 3
   },
   "file_extension": ".py",
   "mimetype": "text/x-python",
   "name": "python",
   "nbconvert_exporter": "python",
   "pygments_lexer": "ipython3",
   "version": "3.11.5"
  }
 },
 "nbformat": 4,
 "nbformat_minor": 5
}
