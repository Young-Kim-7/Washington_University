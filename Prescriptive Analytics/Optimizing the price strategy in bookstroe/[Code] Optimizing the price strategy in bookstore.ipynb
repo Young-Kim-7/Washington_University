{
 "cells": [
  {
   "cell_type": "markdown",
   "metadata": {
    "id": "7S-KQkJ0wdnt"
   },
   "source": [
    "## Problem 2"
   ]
  },
  {
   "cell_type": "markdown",
   "metadata": {},
   "source": [
    "### Step 1: Setup"
   ]
  },
  {
   "cell_type": "code",
   "execution_count": 1,
   "metadata": {
    "id": "eabYfXojwVZi",
    "tags": []
   },
   "outputs": [],
   "source": [
    "import numpy as np\n",
    "import math\n",
    "import pandas as pd\n",
    "from scipy.optimize import minimize"
   ]
  },
  {
   "cell_type": "code",
   "execution_count": 2,
   "metadata": {
    "id": "L1I8h5K_LMrl",
    "tags": []
   },
   "outputs": [],
   "source": [
    "# Define the demand functions\n",
    "def demand_new(price_new, price_used):\n",
    "    return 250 * np.exp(2 - 0.01 * price_new) / (1 + np.exp(2 - 0.01 * price_new) + np.exp(1 - 0.01 * price_used))\n",
    "\n",
    "def demand_used(price_new, price_used):\n",
    "    return 250 * np.exp(1 - 0.01 * price_used) / (1 + np.exp(2 - 0.01 * price_new) + np.exp(1 - 0.01 * price_used))\n",
    "\n",
    "# Define the costs\n",
    "cost_new = 75\n",
    "cost_used = 25"
   ]
  },
  {
   "cell_type": "markdown",
   "metadata": {},
   "source": [
    "### Step 2: Define the Objective Function"
   ]
  },
  {
   "cell_type": "code",
   "execution_count": 3,
   "metadata": {
    "tags": []
   },
   "outputs": [],
   "source": [
    "# The bookstore's contributing margin\n",
    "def objective(prices):\n",
    "    price_new, price_used = prices\n",
    "    return -((price_new - cost_new) * demand_new(price_new, price_used) +\n",
    "             (price_used - cost_used) * demand_used(price_new, price_used))"
   ]
  },
  {
   "cell_type": "markdown",
   "metadata": {},
   "source": [
    "### Step 3: Add Constraints"
   ]
  },
  {
   "cell_type": "code",
   "execution_count": 4,
   "metadata": {
    "tags": []
   },
   "outputs": [],
   "source": [
    "# Define the constraint for the price ratio\n",
    "def constraint(prices):\n",
    "    price_new, price_used = prices\n",
    "    return 0.5 * price_new - price_used"
   ]
  },
  {
   "cell_type": "code",
   "execution_count": 5,
   "metadata": {
    "tags": []
   },
   "outputs": [],
   "source": [
    "# The constraint must be greater than or equal to 0 to satisfy the requirement\n",
    "cons = ({'type': 'ineq', 'fun': constraint})"
   ]
  },
  {
   "cell_type": "markdown",
   "metadata": {},
   "source": [
    "### Step 4: Define the Bounds (if any)"
   ]
  },
  {
   "cell_type": "code",
   "execution_count": 6,
   "metadata": {
    "tags": []
   },
   "outputs": [],
   "source": [
    "# Let's assume that prices cannot be negative\n",
    "bounds = [(0, None), (0, None)]"
   ]
  },
  {
   "cell_type": "markdown",
   "metadata": {},
   "source": [
    "### Step 5: Specify Initial Values"
   ]
  },
  {
   "cell_type": "code",
   "execution_count": 7,
   "metadata": {
    "id": "9kil-dlqLWep",
    "tags": []
   },
   "outputs": [],
   "source": [
    "initial_prices = [200, 50]"
   ]
  },
  {
   "cell_type": "markdown",
   "metadata": {},
   "source": [
    "### Step 6: Solve"
   ]
  },
  {
   "cell_type": "code",
   "execution_count": 8,
   "metadata": {
    "tags": []
   },
   "outputs": [],
   "source": [
    "solve = minimize(objective, initial_prices, bounds=bounds, constraints=cons, method='SLSQP')"
   ]
  },
  {
   "cell_type": "markdown",
   "metadata": {},
   "source": [
    "### (a) Step 7: Display / Print the Solution"
   ]
  },
  {
   "cell_type": "code",
   "execution_count": 9,
   "metadata": {
    "colab": {
     "base_uri": "https://localhost:8080/"
    },
    "id": "moIxF3hkFzyo",
    "outputId": "815aa815-7039-4c38-c407-bf0a06f13813",
    "tags": []
   },
   "outputs": [
    {
     "name": "stdout",
     "output_type": "stream",
     "text": [
      " message: Optimization terminated successfully\n",
      " success: True\n",
      "  status: 0\n",
      "     fun: -20080.75009114656\n",
      "       x: [ 3.008e+02  1.504e+02]\n",
      "     nit: 6\n",
      "     jac: [ 2.107e+01 -4.213e+01]\n",
      "    nfev: 18\n",
      "    njev: 6\n",
      "Objective contribution margin: 20080.75009114656\n",
      "Optimal prices [300.78356123 150.39178062]\n"
     ]
    }
   ],
   "source": [
    "print(solve)\n",
    "print(\"Objective contribution margin:\", -solve.fun)\n",
    "print(\"Optimal prices\", solve.x)"
   ]
  },
  {
   "cell_type": "markdown",
   "metadata": {},
   "source": [
    "### (b) What is the corresponding \"average price\" in part a)?"
   ]
  },
  {
   "cell_type": "code",
   "execution_count": 12,
   "metadata": {
    "tags": []
   },
   "outputs": [
    {
     "data": {
      "text/plain": [
       "207.0323950716291"
      ]
     },
     "execution_count": 12,
     "metadata": {},
     "output_type": "execute_result"
    }
   ],
   "source": [
    "price_new = 300.78356123\n",
    "price_used = 150.39178062\n",
    "d_new = demand_new(price_new, price_used)\n",
    "d_used = demand_used(price_new, price_used)\n",
    "average_price = (price_new * d_new + price_used * d_used) / (d_new + d_used) # total_revenue / total_items_sold\n",
    "average_price"
   ]
  },
  {
   "cell_type": "code",
   "execution_count": 54,
   "metadata": {
    "tags": []
   },
   "outputs": [],
   "source": [
    "# Another constraint\n",
    "# The average price should be no more than $180. The average price in part a) is $207.03\n",
    "def constraint_b(prices):\n",
    "    price_new, price_used = prices\n",
    "    d_new = demand_new(price_new, price_used)\n",
    "    d_used = demand_used(price_new, price_used)\n",
    "    average_price = (price_new * d_new + price_used * d_used) / (d_new + d_used) # total_revenue / total_items_sold\n",
    "    return 180 - average_price\n",
    "\n",
    "cons_b = (\n",
    "    {'type': 'ineq', 'fun': constraint},\n",
    "    {'type': 'ineq', 'fun': constraint_b}\n",
    ")"
   ]
  },
  {
   "cell_type": "code",
   "execution_count": 55,
   "metadata": {
    "tags": []
   },
   "outputs": [],
   "source": [
    "solve = minimize(objective, initial_prices, bounds=bounds, constraints=cons_b, method='SLSQP')"
   ]
  },
  {
   "cell_type": "code",
   "execution_count": 56,
   "metadata": {
    "tags": []
   },
   "outputs": [
    {
     "name": "stdout",
     "output_type": "stream",
     "text": [
      " message: Optimization terminated successfully\n",
      " success: True\n",
      "  status: 0\n",
      "     fun: -19302.675076479594\n",
      "       x: [ 2.505e+02  1.252e+02]\n",
      "     nit: 4\n",
      "     jac: [-1.096e+00 -6.280e+01]\n",
      "    nfev: 13\n",
      "    njev: 4\n",
      "Objective contribution margin: 19302.675076479594\n",
      "Optimal prices [250.48169325 125.24084663]\n"
     ]
    }
   ],
   "source": [
    "print(solve)\n",
    "print(\"Objective contributing margin:\", -solve.fun)\n",
    "print(\"Optimal prices\", solve.x)"
   ]
  }
 ],
 "metadata": {
  "colab": {
   "provenance": []
  },
  "kernelspec": {
   "display_name": "Python 3 (ipykernel)",
   "language": "python",
   "name": "python3"
  },
  "language_info": {
   "codemirror_mode": {
    "name": "ipython",
    "version": 3
   },
   "file_extension": ".py",
   "mimetype": "text/x-python",
   "name": "python",
   "nbconvert_exporter": "python",
   "pygments_lexer": "ipython3",
   "version": "3.11.5"
  }
 },
 "nbformat": 4,
 "nbformat_minor": 4
}
